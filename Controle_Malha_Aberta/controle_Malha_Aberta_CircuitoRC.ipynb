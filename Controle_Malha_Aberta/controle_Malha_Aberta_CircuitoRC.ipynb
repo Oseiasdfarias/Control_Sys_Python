{
  "nbformat": 4,
  "nbformat_minor": 0,
  "metadata": {
    "colab": {
      "name": "controle_Malha_Aberta_CircuitoRC.ipynb",
      "provenance": [],
      "collapsed_sections": [],
      "include_colab_link": true
    },
    "kernelspec": {
      "name": "python3",
      "display_name": "Python 3"
    },
    "language_info": {
      "name": "python"
    }
  },
  "cells": [
    {
      "cell_type": "markdown",
      "metadata": {
        "id": "view-in-github",
        "colab_type": "text"
      },
      "source": [
        "<a href=\"https://colab.research.google.com/github/Oseiasdfarias/Control_Sys_Python/blob/main/Controle_Malha_Aberta/controle_Malha_Aberta_CircuitoRC.ipynb\" target=\"_parent\"><img src=\"https://colab.research.google.com/assets/colab-badge.svg\" alt=\"Open In Colab\"/></a>"
      ]
    },
    {
      "cell_type": "markdown",
      "metadata": {
        "id": "Tke6BFjL5heV"
      },
      "source": [
        "# <center>**CONTROLE EM MALHA ABERTA DE UM CIRCUITO RC**<center/>\n",
        "# <center>**SIMULAÇÃO EM PYTHON**<center/>\n",
        "\n",
        "<br/>\n",
        "\n",
        ">> Controle em Malha Aberta de um Circuito RC Usando a **Liguagem de Programação Python** e a **Biblioteca de Controle (Control)**"
      ]
    },
    {
      "cell_type": "markdown",
      "metadata": {
        "id": "2RgZGG1S6r9D"
      },
      "source": [
        "# **Diagrama do Circuito RC**\n",
        "\n",
        " <br/> <br/> \n",
        "\n",
        "<center><img src=\"https://github.com/Oseiasdfarias/Control_Sys_Python/blob/main/Controle_Malha_Aberta/diagrama_controle_circuito_rc_malha_aberta.png?raw=true\" width=\"900\"></center>\n",
        "\n",
        " <br/> <br/> "
      ]
    },
    {
      "cell_type": "markdown",
      "metadata": {
        "id": "0iWu4NhaMYPZ"
      },
      "source": [
        "## **Modelo Matemático do Circuito RC**\n",
        "\n",
        "$$v_o = v_c = v_i - v_R$$\n",
        "\n",
        "<br/>\n",
        "\n",
        "$$v_R = Ri_c = RC\\dfrac{dv_c}{dt}$$\n",
        "\n",
        "<br/>\n",
        "\n",
        "$$v_o = v_i - RC\\dfrac{dv_o}{dt}$$\n",
        "\n",
        "<br/>\n",
        "\n",
        "$$v_i = RC\\dfrac{dv_o}{dt} + v_o$$\n",
        "\n",
        "<br/>\n",
        "\n",
        "### **Aplicando a Transformada de Laplace**\n",
        "\n",
        "$$v_i = RCsv_o + v_o$$\n",
        "\n",
        "<br/>\n",
        "\n",
        "### **Função de Transferência do Circuito RC com saída no Capacitor**\n",
        "<br/>\n",
        "\n",
        "$$\\dfrac{v_o}{v_i} = \\dfrac{1}{(1 + RCs)}$$\n",
        "\n",
        "\n",
        "\n",
        "<br/>\n",
        "<br/>\n",
        "\n",
        "---\n",
        "\n",
        "<br/>\n",
        "<br/>\n",
        "\n",
        "\n",
        "\n"
      ]
    },
    {
      "cell_type": "markdown",
      "metadata": {
        "id": "kfK3rS6fYt55"
      },
      "source": [
        "# <center> **Aplicando a Teoria de Controle Clássico para Malha Aberta**\n",
        "<center/>"
      ]
    },
    {
      "cell_type": "markdown",
      "metadata": {
        "id": "W_7rZZFMY6vJ"
      },
      "source": [
        "### **Entrada do Sistema**\n",
        ">> Vamos aplicar um degrau unitário no entrada do sistema\n",
        "\n",
        "$$v_i = \\dfrac{1}{s}$$\n",
        "\n",
        "### **Modelo no Domínio** $S$\n",
        ">> Essa é a Função de Transferência do Circuito **RC**\n",
        "\n",
        "$$\\dfrac{v_o}{v_i} = \\dfrac{1}{RCs + 1}$$\n",
        "\n",
        "\n",
        "### **Saída do Sistema no Domínio** $S$\n",
        ">> Essa é a resposta do Circuito RC ao Degrau unitário\n",
        "\n",
        "$$V_o = v_i \\dfrac{v_o}{v_i} = \\dfrac{1}{s(RCs + 1)}$$\n",
        "\n",
        "\n",
        "### **Saída do Sistema no Domínio** $t$\n",
        "\n",
        "$$v_o = 1 - e^{\\dfrac{t}{RC}}$$\n",
        "\n",
        "<br/>\n",
        "<br/>\n",
        "\n",
        "---\n",
        "\n",
        "<br/>\n",
        "<br/>"
      ]
    },
    {
      "cell_type": "markdown",
      "metadata": {
        "id": "NR06WEm-cEIc"
      },
      "source": [
        "#<center>**SIMULAÇÃO USANDO PYTHON**<center/>"
      ]
    },
    {
      "cell_type": "markdown",
      "metadata": {
        "id": "6K40XuibcaE8"
      },
      "source": [
        "### **Instalando a Biblioteca Control**"
      ]
    },
    {
      "cell_type": "code",
      "metadata": {
        "id": "OQlQn6FM5Oh_",
        "colab": {
          "base_uri": "https://localhost:8080/"
        },
        "outputId": "5fecd3ae-78e7-47f3-92a1-fcfbaa3dc6f6"
      },
      "source": [
        "! pip3 install control"
      ],
      "execution_count": 1,
      "outputs": [
        {
          "output_type": "stream",
          "name": "stdout",
          "text": [
            "Collecting control\n",
            "  Downloading control-0.9.0.tar.gz (339 kB)\n",
            "\u001b[?25l\r\u001b[K     |█                               | 10 kB 23.7 MB/s eta 0:00:01\r\u001b[K     |██                              | 20 kB 28.0 MB/s eta 0:00:01\r\u001b[K     |███                             | 30 kB 11.8 MB/s eta 0:00:01\r\u001b[K     |███▉                            | 40 kB 9.3 MB/s eta 0:00:01\r\u001b[K     |████▉                           | 51 kB 5.0 MB/s eta 0:00:01\r\u001b[K     |█████▉                          | 61 kB 5.4 MB/s eta 0:00:01\r\u001b[K     |██████▊                         | 71 kB 5.4 MB/s eta 0:00:01\r\u001b[K     |███████▊                        | 81 kB 6.1 MB/s eta 0:00:01\r\u001b[K     |████████▊                       | 92 kB 4.7 MB/s eta 0:00:01\r\u001b[K     |█████████▋                      | 102 kB 5.1 MB/s eta 0:00:01\r\u001b[K     |██████████▋                     | 112 kB 5.1 MB/s eta 0:00:01\r\u001b[K     |███████████▋                    | 122 kB 5.1 MB/s eta 0:00:01\r\u001b[K     |████████████▋                   | 133 kB 5.1 MB/s eta 0:00:01\r\u001b[K     |█████████████▌                  | 143 kB 5.1 MB/s eta 0:00:01\r\u001b[K     |██████████████▌                 | 153 kB 5.1 MB/s eta 0:00:01\r\u001b[K     |███████████████▌                | 163 kB 5.1 MB/s eta 0:00:01\r\u001b[K     |████████████████▍               | 174 kB 5.1 MB/s eta 0:00:01\r\u001b[K     |█████████████████▍              | 184 kB 5.1 MB/s eta 0:00:01\r\u001b[K     |██████████████████▍             | 194 kB 5.1 MB/s eta 0:00:01\r\u001b[K     |███████████████████▎            | 204 kB 5.1 MB/s eta 0:00:01\r\u001b[K     |████████████████████▎           | 215 kB 5.1 MB/s eta 0:00:01\r\u001b[K     |█████████████████████▎          | 225 kB 5.1 MB/s eta 0:00:01\r\u001b[K     |██████████████████████▎         | 235 kB 5.1 MB/s eta 0:00:01\r\u001b[K     |███████████████████████▏        | 245 kB 5.1 MB/s eta 0:00:01\r\u001b[K     |████████████████████████▏       | 256 kB 5.1 MB/s eta 0:00:01\r\u001b[K     |█████████████████████████▏      | 266 kB 5.1 MB/s eta 0:00:01\r\u001b[K     |██████████████████████████      | 276 kB 5.1 MB/s eta 0:00:01\r\u001b[K     |███████████████████████████     | 286 kB 5.1 MB/s eta 0:00:01\r\u001b[K     |████████████████████████████    | 296 kB 5.1 MB/s eta 0:00:01\r\u001b[K     |█████████████████████████████   | 307 kB 5.1 MB/s eta 0:00:01\r\u001b[K     |██████████████████████████████  | 317 kB 5.1 MB/s eta 0:00:01\r\u001b[K     |███████████████████████████████ | 327 kB 5.1 MB/s eta 0:00:01\r\u001b[K     |███████████████████████████████▉| 337 kB 5.1 MB/s eta 0:00:01\r\u001b[K     |████████████████████████████████| 339 kB 5.1 MB/s \n",
            "\u001b[?25hRequirement already satisfied: numpy in /usr/local/lib/python3.7/dist-packages (from control) (1.19.5)\n",
            "Requirement already satisfied: scipy in /usr/local/lib/python3.7/dist-packages (from control) (1.4.1)\n",
            "Requirement already satisfied: matplotlib in /usr/local/lib/python3.7/dist-packages (from control) (3.2.2)\n",
            "Requirement already satisfied: cycler>=0.10 in /usr/local/lib/python3.7/dist-packages (from matplotlib->control) (0.10.0)\n",
            "Requirement already satisfied: pyparsing!=2.0.4,!=2.1.2,!=2.1.6,>=2.0.1 in /usr/local/lib/python3.7/dist-packages (from matplotlib->control) (2.4.7)\n",
            "Requirement already satisfied: kiwisolver>=1.0.1 in /usr/local/lib/python3.7/dist-packages (from matplotlib->control) (1.3.2)\n",
            "Requirement already satisfied: python-dateutil>=2.1 in /usr/local/lib/python3.7/dist-packages (from matplotlib->control) (2.8.2)\n",
            "Requirement already satisfied: six in /usr/local/lib/python3.7/dist-packages (from cycler>=0.10->matplotlib->control) (1.15.0)\n",
            "Building wheels for collected packages: control\n",
            "  Building wheel for control (setup.py) ... \u001b[?25l\u001b[?25hdone\n",
            "  Created wheel for control: filename=control-0.9.0-py2.py3-none-any.whl size=344928 sha256=3d43318e2816170bb37719752ff81c954d99314bca0b4368452b0ca9a2e3d7ce\n",
            "  Stored in directory: /root/.cache/pip/wheels/5b/64/54/70faad181d7baff1184541ca00c9a2efa633acd0a811831d30\n",
            "Successfully built control\n",
            "Installing collected packages: control\n",
            "Successfully installed control-0.9.0\n"
          ]
        }
      ]
    },
    {
      "cell_type": "markdown",
      "metadata": {
        "id": "K7tyUpbechTR"
      },
      "source": [
        "### **Importando as bibliotecas que usaremos na simulação**"
      ]
    },
    {
      "cell_type": "code",
      "metadata": {
        "id": "8kQju6B5cVFe"
      },
      "source": [
        "import control as ctl\n",
        "import matplotlib.pyplot as plt\n",
        "import numpy as np\n",
        "\n",
        "%matplotlib inline"
      ],
      "execution_count": 2,
      "outputs": []
    },
    {
      "cell_type": "markdown",
      "metadata": {
        "id": "lUiGrMQGeflE"
      },
      "source": [
        "### **Código de Simulação**"
      ]
    },
    {
      "cell_type": "code",
      "metadata": {
        "colab": {
          "base_uri": "https://localhost:8080/",
          "height": 552
        },
        "id": "aVOEevqIc3io",
        "outputId": "545f1d65-74f1-4231-af40-80fbdc9551a5"
      },
      "source": [
        "# Criando as Função de Transferência em Malha Aberta\n",
        "\n",
        "# Valores do Resistor e Capacitor\n",
        "R = 1.\n",
        "C = 1.\n",
        "\n",
        "# Tempo de Simulação\n",
        "Temp_Sim = 10\n",
        "\n",
        "# Criando o Numerador da Função de Transferência\n",
        "numerador = [1.]\n",
        "\n",
        "# Criando o Denominador da Função de Transferência\n",
        "denominador = [R*C, 1.]\n",
        "\n",
        "# Criando a Função de Transferência usando o método ctl.tf() da biblioteca Control\n",
        "H_s = ctl.tf(numerador, denominador)\n",
        "print(f\"Função de Transferência em Malha Aberta: {H_s}\")\n",
        "\n",
        "# Calculando a resposta ao degrau unitário usando o métoda ctl.step_response()\n",
        "# da biblioteca Control  \n",
        "T, yout = ctl.step_response(H_s, Temp_Sim)\n",
        "\n",
        "# Plotando a resposta ao Degrau usando o metodo plt.plot() da biblioteca matplotlib\n",
        "plt.figure(figsize=(15, 7))\n",
        "plt.plot(T, yout, linewidth = 1.2)\n",
        "\n",
        "# Plotando o degrau unitário\n",
        "Temp_deg = np.linspace(-1., 10., 1000)\n",
        "degrau = np.ones_like(Temp_deg)\n",
        "degrau[Temp_deg < 0] = 0\n",
        "plt.plot(Temp_deg, degrau, color = \"r\", linestyle = \"--\", linewidth = 1.2)\n",
        "\n",
        "# Customizando a figura com Titulo,  Títulos nos eixos, Legenda e Grid\n",
        "plt.title(\"Circuito RC - Resposta ao Degrau\", fontsize =  14)\n",
        "plt.ylabel(\"Tensão no Capacitor (V)\", fontsize = 13)\n",
        "plt.xlabel(\"Tempo (s)\", fontsize = 13)\n",
        "plt.legend([\"Resposta oa Degrau\", \"Degrau Unitário\"], fontsize = 13)\n",
        "#plt.grid()\n",
        "plt.show()\n",
        "\n"
      ],
      "execution_count": 3,
      "outputs": [
        {
          "output_type": "stream",
          "name": "stdout",
          "text": [
            "Função de Transferência em Malha Aberta: \n",
            "  1\n",
            "-----\n",
            "s + 1\n",
            "\n"
          ]
        },
        {
          "output_type": "display_data",
          "data": {
            "image/png": "[encoded data removed]",
            "text/plain": [
              "<Figure size 1080x504 with 1 Axes>"
            ]
          },
          "metadata": {
            "needs_background": "light"
          }
        }
      ]
    },
    {
      "cell_type": "code",
      "metadata": {
        "id": "QKUslAxLktac"
      },
      "source": [
        ""
      ],
      "execution_count": 3,
      "outputs": []
    }
  ]
}