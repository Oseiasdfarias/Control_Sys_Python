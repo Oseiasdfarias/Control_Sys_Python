{
  "nbformat": 4,
  "nbformat_minor": 0,
  "metadata": {
    "colab": {
      "name": "controle_Malha_Fechada_CircuitoRC.ipynb",
      "provenance": [],
      "authorship_tag": "ABX9TyM5pF7hmjUUo1u7FFkKRSfj",
      "include_colab_link": true
    },
    "kernelspec": {
      "name": "python3",
      "display_name": "Python 3"
    },
    "language_info": {
      "name": "python"
    }
  },
  "cells": [
    {
      "cell_type": "markdown",
      "metadata": {
        "id": "view-in-github",
        "colab_type": "text"
      },
      "source": [
        "<a href=\"https://colab.research.google.com/github/Oseiasdfarias/Control_Sys_Python/blob/main/Controle_Malha_Fechada_circuito_RC/controle_Malha_Fechada_CircuitoRC.ipynb\" target=\"_parent\"><img src=\"https://colab.research.google.com/assets/colab-badge.svg\" alt=\"Open In Colab\"/></a>"
      ]
    },
    {
      "cell_type": "markdown",
      "metadata": {
        "id": "RufETM4sCXEr"
      },
      "source": [
        "# <center>**CONTROLE EM MALHA FECHADA DE UM CIRCUITO RC**<center/>\n",
        "# <center>**SIMULAÇÃO EM PYTHON**<center/>\n",
        "\n",
        "<br/>\n",
        "\n",
        ">> Controle em Malha Fechada de um Circuito RC Usando a **Liguagem de Programação Python** e a **Biblioteca de Controle (Control)**"
      ]
    },
    {
      "cell_type": "markdown",
      "metadata": {
        "id": "BpxvNgCqC0s8"
      },
      "source": [
        "# **Diagrama do Circuito RC**"
      ]
    },
    {
      "cell_type": "markdown",
      "metadata": {
        "id": "F6ozxfXvGtWY"
      },
      "source": [
        " <br/> <br/> \n",
        "\n",
        "<center><img src=\"https://github.com/Oseiasdfarias/Control_Sys_Python/blob/main/Controle_Malha_Fechada_circuito_RC/sistemas_de_controle_motor.png?raw=true\" width=\"900\"></center>\n",
        "\n",
        " <br/> <br/> "
      ]
    },
    {
      "cell_type": "markdown",
      "metadata": {
        "id": "nX8UvUUZHBCr"
      },
      "source": [
        "## **Modelo Matemático do Circuito RC**\n",
        "\n",
        "$$v_o = v_c = v_i - v_R$$\n",
        "\n",
        "<br/>\n",
        "\n",
        "$$v_R = Ri_c = RC\\dfrac{dv_c}{dt}$$\n",
        "\n",
        "<br/>\n",
        "\n",
        "$$v_o = v_i - RC\\dfrac{dv_o}{dt}$$\n",
        "\n",
        "<br/>\n",
        "\n",
        "$$v_i = RC\\dfrac{dv_o}{dt} + v_o$$\n",
        "\n",
        "<br/>\n",
        "\n",
        "### **Aplicando a Transformada de Laplace**\n",
        "\n",
        "$$v_i = RCsv_o + v_o$$\n",
        "\n",
        "<br/>\n",
        "\n",
        "### **Função de Transferência do Circuito RC com saída no Capacitor**\n",
        "<br/>\n",
        "\n",
        "$$\\dfrac{v_o}{v_i} = \\dfrac{1}{(1 + RCs)}$$\n",
        "\n",
        "\n",
        "\n",
        "<br/>\n",
        "<br/>\n",
        "\n",
        "---\n",
        "\n",
        "<br/>\n",
        "<br/>\n",
        "\n",
        "\n",
        "\n"
      ]
    },
    {
      "cell_type": "markdown",
      "metadata": {
        "id": "AYvgV0mAHqUs"
      },
      "source": [
        "# **CONTROLE EM MALHA FECHADA DO CIRCUITO RC**\n",
        "\n",
        "<br/><br/><br/>\n",
        "\n",
        "<center><img src=\"https://github.com/Oseiasdfarias/Control_Sys_Python/blob/main/Controle_Malha_Fechada_circuito_RC/sistemas_de_controle_CIRCUITOrc.png?raw=true\" width=\"900\"></center>\n",
        "\n",
        "<br/><br/>\n",
        "\n",
        "> **Onde:**\n",
        ">> Modelo do Circuito RC: \n",
        "$$H(s) = \\dfrac{5}{s + 5}$$\n",
        "\n",
        ">> Sensor:\n",
        "$$P(s) = 1$$\n",
        "\n",
        ">> Controlador:\n",
        "$$C(s) = K$$\n",
        "\n",
        "\n",
        "<br/>\n",
        "\n",
        "> ### **Aplicando a Teoria de Controle em Malha Fechada**\n",
        "> Função de **Transferência Geral para o Sistema em Malha Fechada** é dada por:\n",
        "\n",
        "<br/>\n",
        "\n",
        "$$G(s) = \\dfrac{C(s)H(s)}{1 + C(s)H(s)P(s)}$$\n",
        "\n",
        "<br/>\n",
        "\n",
        "<br/>\n",
        "\n",
        "\n",
        "> Substituindo os valores temos:\n",
        "\n",
        "<br/>\n",
        "\n",
        "\n",
        "$$G(s) = \\dfrac{KH(s)}{1 + KH(s)P(s)}$$\n",
        "\n",
        "\n",
        "\n",
        "<br/>\n",
        "\n",
        "$$G(s) = \\dfrac{K\\dfrac{5}{s + 5}}{1 + K\\dfrac{5 }{s + 5}1}$$\n",
        "\n",
        "<br/>\n",
        "<br/>\n",
        "\n",
        "> Simplificando a equação, temos:\n",
        "<br/>\n",
        "<br/>\n",
        "\n",
        "$$G(s) = \\dfrac{\\dfrac{5K}{s + 5}}{1 + \\dfrac{5K}{s + 5}}$$\n",
        "\n",
        "<br/>\n",
        "<br/>\n",
        "\n",
        "> Aplicar as propriedades das frações:$\\quad \\frac{\\frac{a}{b}}{c}=\\frac{a}{b\\cdot \\:c}$\n",
        "<br/>\n",
        "<br/>\n",
        "\n",
        "$$G(s) =\\frac{5K}{\\left(s+5\\right)\\left(1+\\frac{5K}{s+5}\\right)}$$\n",
        "\n",
        "<br/>\n",
        "<br/>\n",
        "\n",
        "> Simplificando  $(1+\\frac{5K}{s+5})$\n",
        "<br/>\n",
        "\n",
        "$$(\\frac{s+5+5K}{s+5})$$\n",
        "\n",
        "> Substituindo na equação x:\n",
        "\n",
        "<br/>\n",
        "<br/>\n",
        "\n",
        "$$G(s) =\\frac{5K}{\\left(s+5\\right)(\\frac{s+5+5K}{s+5})}$$\n",
        "\n",
        "<br/>\n",
        "<br/>\n",
        "\n",
        "> **Função de Transferência em Malha Fechada** do nosso sistema de Controle é dada por:\n",
        "\n",
        "<br/>\n",
        "<br/>\n",
        "\n",
        "$$G(s) =\\frac{5K}{s+5+5K}$$\n",
        "\n",
        "<br/>\n",
        "<br/>\n",
        "<br/>\n",
        "\n",
        "---\n",
        "---\n",
        "\n",
        "<br/>\n",
        "<br/>\n",
        "<br/>"
      ]
    },
    {
      "cell_type": "markdown",
      "metadata": {
        "id": "jxfY9Hh4IsdH"
      },
      "source": [
        "# <center>**SIMULAÇÃO COM PYTHON**<center/>"
      ]
    },
    {
      "cell_type": "markdown",
      "metadata": {
        "id": "j1IOB5UmI9Cv"
      },
      "source": [
        "### **Instalando a Biblioteca Control**\n"
      ]
    },
    {
      "cell_type": "code",
      "metadata": {
        "colab": {
          "base_uri": "https://localhost:8080/"
        },
        "id": "rq5tVDsm_NH7",
        "outputId": "f4e6abc3-9902-451a-9022-5b751eb9bf30"
      },
      "source": [
        "! pip3 install control"
      ],
      "execution_count": 1,
      "outputs": [
        {
          "output_type": "stream",
          "name": "stdout",
          "text": [
            "Collecting control\n",
            "  Downloading control-0.9.0.tar.gz (339 kB)\n",
            "\u001b[?25l\r\u001b[K     |█                               | 10 kB 21.4 MB/s eta 0:00:01\r\u001b[K     |██                              | 20 kB 28.3 MB/s eta 0:00:01\r\u001b[K     |███                             | 30 kB 13.0 MB/s eta 0:00:01\r\u001b[K     |███▉                            | 40 kB 9.4 MB/s eta 0:00:01\r\u001b[K     |████▉                           | 51 kB 5.2 MB/s eta 0:00:01\r\u001b[K     |█████▉                          | 61 kB 5.8 MB/s eta 0:00:01\r\u001b[K     |██████▊                         | 71 kB 5.5 MB/s eta 0:00:01\r\u001b[K     |███████▊                        | 81 kB 6.2 MB/s eta 0:00:01\r\u001b[K     |████████▊                       | 92 kB 4.7 MB/s eta 0:00:01\r\u001b[K     |█████████▋                      | 102 kB 5.0 MB/s eta 0:00:01\r\u001b[K     |██████████▋                     | 112 kB 5.0 MB/s eta 0:00:01\r\u001b[K     |███████████▋                    | 122 kB 5.0 MB/s eta 0:00:01\r\u001b[K     |████████████▋                   | 133 kB 5.0 MB/s eta 0:00:01\r\u001b[K     |█████████████▌                  | 143 kB 5.0 MB/s eta 0:00:01\r\u001b[K     |██████████████▌                 | 153 kB 5.0 MB/s eta 0:00:01\r\u001b[K     |███████████████▌                | 163 kB 5.0 MB/s eta 0:00:01\r\u001b[K     |████████████████▍               | 174 kB 5.0 MB/s eta 0:00:01\r\u001b[K     |█████████████████▍              | 184 kB 5.0 MB/s eta 0:00:01\r\u001b[K     |██████████████████▍             | 194 kB 5.0 MB/s eta 0:00:01\r\u001b[K     |███████████████████▎            | 204 kB 5.0 MB/s eta 0:00:01\r\u001b[K     |████████████████████▎           | 215 kB 5.0 MB/s eta 0:00:01\r\u001b[K     |█████████████████████▎          | 225 kB 5.0 MB/s eta 0:00:01\r\u001b[K     |██████████████████████▎         | 235 kB 5.0 MB/s eta 0:00:01\r\u001b[K     |███████████████████████▏        | 245 kB 5.0 MB/s eta 0:00:01\r\u001b[K     |████████████████████████▏       | 256 kB 5.0 MB/s eta 0:00:01\r\u001b[K     |█████████████████████████▏      | 266 kB 5.0 MB/s eta 0:00:01\r\u001b[K     |██████████████████████████      | 276 kB 5.0 MB/s eta 0:00:01\r\u001b[K     |███████████████████████████     | 286 kB 5.0 MB/s eta 0:00:01\r\u001b[K     |████████████████████████████    | 296 kB 5.0 MB/s eta 0:00:01\r\u001b[K     |█████████████████████████████   | 307 kB 5.0 MB/s eta 0:00:01\r\u001b[K     |██████████████████████████████  | 317 kB 5.0 MB/s eta 0:00:01\r\u001b[K     |███████████████████████████████ | 327 kB 5.0 MB/s eta 0:00:01\r\u001b[K     |███████████████████████████████▉| 337 kB 5.0 MB/s eta 0:00:01\r\u001b[K     |████████████████████████████████| 339 kB 5.0 MB/s \n",
            "\u001b[?25hRequirement already satisfied: numpy in /usr/local/lib/python3.7/dist-packages (from control) (1.19.5)\n",
            "Requirement already satisfied: scipy in /usr/local/lib/python3.7/dist-packages (from control) (1.4.1)\n",
            "Requirement already satisfied: matplotlib in /usr/local/lib/python3.7/dist-packages (from control) (3.2.2)\n",
            "Requirement already satisfied: pyparsing!=2.0.4,!=2.1.2,!=2.1.6,>=2.0.1 in /usr/local/lib/python3.7/dist-packages (from matplotlib->control) (2.4.7)\n",
            "Requirement already satisfied: cycler>=0.10 in /usr/local/lib/python3.7/dist-packages (from matplotlib->control) (0.10.0)\n",
            "Requirement already satisfied: kiwisolver>=1.0.1 in /usr/local/lib/python3.7/dist-packages (from matplotlib->control) (1.3.2)\n",
            "Requirement already satisfied: python-dateutil>=2.1 in /usr/local/lib/python3.7/dist-packages (from matplotlib->control) (2.8.2)\n",
            "Requirement already satisfied: six in /usr/local/lib/python3.7/dist-packages (from cycler>=0.10->matplotlib->control) (1.15.0)\n",
            "Building wheels for collected packages: control\n",
            "  Building wheel for control (setup.py) ... \u001b[?25l\u001b[?25hdone\n",
            "  Created wheel for control: filename=control-0.9.0-py2.py3-none-any.whl size=344928 sha256=26805458815abc0198284e17c0bd41d1882c6aa0e301376eceed8ccdc1b93a87\n",
            "  Stored in directory: /root/.cache/pip/wheels/5b/64/54/70faad181d7baff1184541ca00c9a2efa633acd0a811831d30\n",
            "Successfully built control\n",
            "Installing collected packages: control\n",
            "Successfully installed control-0.9.0\n"
          ]
        }
      ]
    },
    {
      "cell_type": "markdown",
      "metadata": {
        "id": "fB6dz9vvJIWy"
      },
      "source": [
        "### **Importando as Bibliotecas necessárias para a simulação**"
      ]
    },
    {
      "cell_type": "code",
      "metadata": {
        "id": "zi023w4YJHIH"
      },
      "source": [
        "import control as ctl \n",
        "import matplotlib.pyplot as plt\n",
        "import numpy as np\n"
      ],
      "execution_count": 3,
      "outputs": []
    },
    {
      "cell_type": "markdown",
      "metadata": {
        "id": "fnsr-UAwJn3G"
      },
      "source": [
        "### **Código de Simulação**"
      ]
    },
    {
      "cell_type": "code",
      "metadata": {
        "colab": {
          "base_uri": "https://localhost:8080/",
          "height": 862
        },
        "id": "uaO5YDxcJmzq",
        "outputId": "41fba20d-9d00-49ba-8e26-aa3165ee4ce1"
      },
      "source": [
        "# Variáveis da Simulação\n",
        "R = 20.0e3\n",
        "C = 10.0e-6\n",
        "tau = R*C\n",
        "Temp_simu = 2.0\n",
        "\n",
        "# Cria a Função de Transferência em Malha Aberta\n",
        "numerador = [1/tau]\n",
        "denominador = [1.0, 1/tau]\n",
        "H_s = ctl.tf(numerador, denominador)\n",
        "print(f\"\\n\\n> Função de Transferência em Malha Aberta:\\n {H_s}\")\n",
        "\n",
        "# Cria a Função de Transferência do Controlador\n",
        "C_s=ctl.tf([3.],[1.])\n",
        "print(f\"\\n> Função de Transferência do Controlador:\\n {C_s}\")\n",
        "\n",
        "# Cria a Função de Transferência do Sensor\n",
        "P_s=ctl.tf([1.],[1.])\n",
        "\n",
        "# Função de Transferência em Malha Fechada\n",
        "# G1_s=(C_s*H_s)/(1+C_s*H_s*P_s)\n",
        "G_s=ctl.series(C_s, H_s);\n",
        "G1_s=ctl.feedback(G_s, P_s, sign=-1);\n",
        "print(f\"\\n> Função de Transferência em Malha fechada:\\n {G1_s}\")\n",
        "\n",
        "# Calcula a resposta ao Degrau Unitário\n",
        "T_mf, yout_mf = ctl.step_response(G1_s, Temp_simu)\n",
        "\n",
        "# Plotando a resposta ao Degrau usando o metodo plt.plot() da biblioteca matplotlib\n",
        "plt.figure(figsize=(15, 7))\n",
        "plt.plot(T_mf, yout_mf, linewidth = 1.2)\n",
        "\n",
        "# Plotando o degrau unitário\n",
        "Temp_deg = np.linspace(-0.2, Temp_simu, 1000)\n",
        "degrau = np.ones_like(Temp_deg)\n",
        "degrau[Temp_deg < 0] = 0\n",
        "plt.plot(Temp_deg, degrau, color = \"r\", linestyle = \"--\", linewidth = 1.2)\n",
        "\n",
        "# Customizando a figura com Titulo,  Títulos nos eixos, Legenda e Grid\n",
        "plt.title(\"Circuito RC - Resposta ao Degrau em Malha Fechada\", fontweight=\"bold\", fontsize =  17)\n",
        "plt.ylabel(\"Tensão no Capacitor (V)\", fontweight=\"bold\", fontsize = 14)\n",
        "plt.xlabel(\"Tempo (s)\", fontweight=\"bold\", fontsize = 14)\n",
        "plt.legend([\"Resposta ao Degrau\", \"Degrau Unitário\"], fontsize = 14)\n",
        "#plt.grid()\n",
        "plt.show()\n",
        "\n",
        "\n"
      ],
      "execution_count": 18,
      "outputs": [
        {
          "output_type": "stream",
          "name": "stdout",
          "text": [
            "\n",
            "\n",
            "> Função de Transferência em Malha Aberta:\n",
            " \n",
            "  5\n",
            "-----\n",
            "s + 5\n",
            "\n",
            "\n",
            "> Função de Transferência do Controlador:\n",
            " \n",
            "3\n",
            "-\n",
            "1\n",
            "\n",
            "\n",
            "> Função de Transferência em Malha fechada:\n",
            " \n",
            "  15\n",
            "------\n",
            "s + 20\n",
            "\n"
          ]
        },
        {
          "output_type": "display_data",
          "data": {
            "image/png": "[encoded data removed]",
            "text/plain": [
              "<Figure size 1080x504 with 1 Axes>"
            ]
          },
          "metadata": {
            "needs_background": "light"
          }
        }
      ]
    },
    {
      "cell_type": "code",
      "metadata": {
        "id": "spHZr6cqSAim"
      },
      "source": [
        ""
      ],
      "execution_count": null,
      "outputs": []
    }
  ]
}